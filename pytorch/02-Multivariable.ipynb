{
 "cells": [
  {
   "cell_type": "code",
   "execution_count": 1,
   "id": "5cfea9de-55e5-4d60-8b27-8e88dc79b980",
   "metadata": {},
   "outputs": [],
   "source": [
    "import torch\n",
    "import torch.nn as nn\n",
    "import torch.nn.functional as F\n",
    "import torch.optim as optim\n",
    "import numpy as np\n",
    "import matplotlib.pyplot as plt"
   ]
  },
  {
   "cell_type": "code",
   "execution_count": 2,
   "id": "591009ea-1970-4c5c-a82c-d367ff27d19a",
   "metadata": {},
   "outputs": [],
   "source": [
    "# 데이터\n",
    "x1_train = torch.FloatTensor([[73], [93], [89], [96], [73]])\n",
    "x2_train = torch.FloatTensor([[80], [88], [91], [98], [66]])\n",
    "x3_train = torch.FloatTensor([[75], [93], [90], [100], [70]])\n",
    "y_train = torch.FloatTensor([[152], [185], [180], [196], [142]])"
   ]
  },
  {
   "cell_type": "code",
   "execution_count": 3,
   "id": "24d95b42-2bb3-4a8c-8d75-4c9ab64cea87",
   "metadata": {},
   "outputs": [
    {
     "name": "stdout",
     "output_type": "stream",
     "text": [
      "tensor([[ 73.,  80.,  75.],\n",
      "        [ 93.,  88.,  93.],\n",
      "        [ 89.,  91.,  90.],\n",
      "        [ 96.,  98., 100.],\n",
      "        [ 73.,  66.,  70.]])\n",
      "torch.Size([5, 3])\n"
     ]
    }
   ],
   "source": [
    "x_train = torch.cat([x1_train, x2_train, x3_train], dim=1)\n",
    "print(x_train)\n",
    "print(x_train.shape)"
   ]
  },
  {
   "cell_type": "code",
   "execution_count": 4,
   "id": "c50a1e1a-00bf-45bb-9e8e-dddfeac642e2",
   "metadata": {},
   "outputs": [
    {
     "data": {
      "image/png": "[encoded data removed]",
      "text/plain": [
       "<Figure size 432x288 with 1 Axes>"
      ]
     },
     "metadata": {
      "needs_background": "light"
     },
     "output_type": "display_data"
    }
   ],
   "source": [
    "# 모델 초기화\n",
    "W = torch.zeros((3, 1), requires_grad=True)\n",
    "b = torch.zeros(1, requires_grad=True)\n",
    "# optimizer 설정\n",
    "optimizer = optim.SGD([W, b], lr=1e-5)\n",
    "loss = nn.MSELoss()\n",
    "\n",
    "nb_epochs = 20\n",
    "epochs = np.arange(1, nb_epochs+1)\n",
    "y_cost = []\n",
    "\n",
    "for epoch in epochs:\n",
    "    optimizer.zero_grad()\n",
    "    # Forward Prop\n",
    "    hypothesis = torch.matmul(x_train, W) + b\n",
    "    cost = loss(hypothesis, y_train)\n",
    "    # Backward Prop\n",
    "    cost.backward()\n",
    "    optimizer.step()\n",
    "    # for plotting\n",
    "    y_cost.append(float(cost))\n",
    "\n",
    "fig = plt.plot(epochs, y_cost)"
   ]
  },
  {
   "cell_type": "code",
   "execution_count": 6,
   "id": "66b02c3e-81c8-4d0b-bf0a-0ede1dda4754",
   "metadata": {},
   "outputs": [
    {
     "data": {
      "image/png": "[encoded data removed]",
      "text/plain": [
       "<Figure size 432x288 with 1 Axes>"
      ]
     },
     "metadata": {
      "needs_background": "light"
     },
     "output_type": "display_data"
    }
   ],
   "source": [
    "# optimizer 설정\n",
    "nb_epochs = 20\n",
    "epochs = np.arange(1, nb_epochs+1)\n",
    "model = nn.Linear(3, 1) # (입력, 출력 사이즈)\n",
    "optimizer = optim.SGD(model.parameters(), lr=1e-5) # 파라미터 자동 생성\n",
    "loss = nn.MSELoss()\n",
    "\n",
    "y_cost = []\n",
    "\n",
    "for epoch in epochs:\n",
    "    optimizer.zero_grad()\n",
    "    # Forward Prop\n",
    "    hypothesis = model(x_train)  # 식 대신 모델 사용\n",
    "    cost = loss(hypothesis, y_train)\n",
    "    # Backward Prop\n",
    "    cost.backward()\n",
    "    optimizer.step()\n",
    "    # for plotting\n",
    "    y_cost.append(float(cost))\n",
    "\n",
    "fig = plt.plot(epochs, y_cost)"
   ]
  },
  {
   "cell_type": "code",
   "execution_count": null,
   "id": "fe85a16b-f741-48bd-b1aa-50c000093d34",
   "metadata": {},
   "outputs": [],
   "source": []
  }
 ],
 "metadata": {
  "kernelspec": {
   "display_name": "Python 3",
   "language": "python",
   "name": "python3"
  },
  "language_info": {
   "codemirror_mode": {
    "name": "ipython",
    "version": 3
   },
   "file_extension": ".py",
   "mimetype": "text/x-python",
   "name": "python",
   "nbconvert_exporter": "python",
   "pygments_lexer": "ipython3",
   "version": "3.9.1"
  }
 },
 "nbformat": 4,
 "nbformat_minor": 5
}
